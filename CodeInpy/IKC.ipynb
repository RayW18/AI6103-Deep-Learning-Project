{
  "cells": [
    {
      "cell_type": "code",
      "execution_count": null,
      "metadata": {
        "id": "spHbx5-18nW-"
      },
      "outputs": [],
      "source": [
        "gpu_info = !nvidia-smi\n",
        "gpu_info = '\\n'.join(gpu_info)\n",
        "if gpu_info.find('failed') >= 0:\n",
        "  print('Not connected to a GPU')\n",
        "else:\n",
        "  print(gpu_info)\n",
        "  \n",
        "from google.colab import drive\n",
        "drive.mount('/content/drive')"
      ]
    },
    {
      "cell_type": "code",
      "execution_count": null,
      "metadata": {},
      "outputs": [],
      "source": [
        "!git clone https://github.com/RayW18/AI6103-Deep-Learning-Project.git"
      ]
    },
    {
      "cell_type": "code",
      "execution_count": null,
      "metadata": {
        "colab": {
          "base_uri": "https://localhost:8080/"
        },
        "id": "Hppj6hAYJ5c1",
        "outputId": "dd2330ff-6dda-4067-a76e-4ef97300b0aa"
      },
      "outputs": [
        {
          "name": "stdout",
          "output_type": "stream",
          "text": [
            "dataset.py    IKC.ipynb  model\t      Set5\t   Test_SFTMD.py\n",
            "final_model   main.py\t model.py     Test_IKC.py  TrainIKC.py\n",
            "Functions.py  main.yaml  __pycache__  test.py\t   TrainSFTMD.py\n"
          ]
        }
      ],
      "source": [
        "import os\n",
        "path='/content/AI6103-Deep-Learning-Project/CodeInpy/'\n",
        "os.chdir(path)\n",
        "os.listdir(path)\n",
        "\n",
        "!ls"
      ]
    },
    {
      "cell_type": "markdown",
      "metadata": {
        "id": "DV-XWDXooHs4"
      },
      "source": [
        "#Model Test"
      ]
    },
    {
      "cell_type": "code",
      "execution_count": null,
      "metadata": {
        "colab": {
          "base_uri": "https://localhost:8080/"
        },
        "id": "_VM6DcHDoEB9",
        "outputId": "7c9e23ff-185c-469e-8427-c292a32075ae"
      },
      "outputs": [
        {
          "name": "stdout",
          "output_type": "stream",
          "text": [
            "****** Test on SFTMD Model ******\n",
            "torch.Size([1, 3, 512, 512])\n",
            "/usr/local/lib/python3.7/dist-packages/torchvision/transforms/transforms.py:333: UserWarning: Argument 'interpolation' of type int is deprecated since 0.13 and will be removed in 0.15. Please use InterpolationMode enum.\n",
            "  \"Argument 'interpolation' of type int is deprecated since 0.13 and will be removed in 0.15. \"\n",
            "Image 1 PSNR 24.023190724217713 SSIM 0.835905371757825\n",
            "Average Results: \n",
            "PSNR 24.023190724217713 SSIM 0.835905371757825\n"
          ]
        }
      ],
      "source": [
        "!python Test_SFTMD.py"
      ]
    },
    {
      "cell_type": "code",
      "execution_count": null,
      "metadata": {
        "colab": {
          "base_uri": "https://localhost:8080/"
        },
        "id": "qK9RulL0K9_r",
        "outputId": "d4ec124c-9a7d-41bd-eb59-2728a698da63"
      },
      "outputs": [
        {
          "name": "stdout",
          "output_type": "stream",
          "text": [
            "torch.Size([1, 3, 128, 128])\n",
            "torch.Size([3, 512, 512])\n",
            "torch.Size([1, 3, 512, 512]) torch.Size([3, 512, 512])\n",
            "/usr/local/lib/python3.7/dist-packages/torch/nn/modules/loss.py:530: UserWarning: Using a target size (torch.Size([3, 512, 512])) that is different to the input size (torch.Size([1, 3, 512, 512])). This will likely lead to incorrect results due to broadcasting. Please ensure they have the same size.\n",
            "  return F.mse_loss(input, target, reduction=self.reduction)\n",
            "Image 1 P+SFTMD PSNR 29.981711855787417 SSIM 0.921866904467962\n",
            "Image 1 Corrector Iteration 10 PSNR 31.390738827071054 SSIM 0.9322611399790329\n",
            "Image 1 Corrector Iteration MAX PSNR 31.390738827071054 MAX SSIM 0.9322611399790329\n",
            "Predictor + SFTMD Average Results:\n",
            "PSNR 29.981711855787417 SSIM 0.921866904467962\n",
            "IKC Average Results:\n",
            "PSNR 31.390738827071054 SSIM 0.9322611399790329\n"
          ]
        }
      ],
      "source": [
        "!python Test_IKC.py"
      ]
    },
    {
      "cell_type": "markdown",
      "metadata": {
        "id": "FWI-fBO6sihH"
      },
      "source": [
        "#Model Train"
      ]
    },
    {
      "cell_type": "code",
      "execution_count": null,
      "metadata": {
        "id": "tntilfLUnYA4"
      },
      "outputs": [],
      "source": [
        "!python TrainSFTMD.py"
      ]
    },
    {
      "cell_type": "code",
      "execution_count": null,
      "metadata": {
        "id": "W6otkCN7PE7S"
      },
      "outputs": [],
      "source": [
        "from TrainIKC import *\n",
        "Train_IKC().main()"
      ]
    }
  ],
  "metadata": {
    "accelerator": "GPU",
    "colab": {
      "machine_shape": "hm",
      "provenance": []
    },
    "gpuClass": "premium",
    "kernelspec": {
      "display_name": "Python 3.8.9 64-bit",
      "language": "python",
      "name": "python3"
    },
    "language_info": {
      "name": "python",
      "version": "3.8.9"
    },
    "vscode": {
      "interpreter": {
        "hash": "31f2aee4e71d21fbe5cf8b01ff0e069b9275f58929596ceb00d14d90e3e16cd6"
      }
    }
  },
  "nbformat": 4,
  "nbformat_minor": 0
}
